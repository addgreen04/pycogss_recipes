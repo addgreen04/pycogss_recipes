{
 "cells": [
  {
   "cell_type": "code",
   "execution_count": 1,
   "metadata": {},
   "outputs": [],
   "source": [
    "import geopandas as gpd\n",
    "import numpy as np\n",
    "import pandas as pd\n",
    "import ee\n",
    "import geemap\n",
    "from datetime import datetime\n",
    "from pathlib import Path\n"
   ]
  },
  {
   "cell_type": "code",
   "execution_count": 2,
   "metadata": {},
   "outputs": [
    {
     "data": {
      "text/html": [
       "\n",
       "            <style>\n",
       "                .geemap-dark {\n",
       "                    --jp-widgets-color: white;\n",
       "                    --jp-widgets-label-color: white;\n",
       "                    --jp-ui-font-color1: white;\n",
       "                    --jp-layout-color2: #454545;\n",
       "                    background-color: #383838;\n",
       "                }\n",
       "                    \n",
       "                .geemap-dark .jupyter-button {\n",
       "                    --jp-layout-color3: #383838;\n",
       "                }\n",
       "                \n",
       "                .geemap-colab {\n",
       "                    background-color: var(--colab-primary-surface-color, white);\n",
       "                }\n",
       "                    \n",
       "                .geemap-colab .jupyter-button {\n",
       "                    --jp-layout-color3: var(--colab-primary-surface-color, white);\n",
       "                }\n",
       "            </style>\n",
       "            "
      ],
      "text/plain": [
       "<IPython.core.display.HTML object>"
      ]
     },
     "metadata": {},
     "output_type": "display_data"
    }
   ],
   "source": [
    "try:\n",
    "    ee.Initialize()\n",
    "except: \n",
    "    ee.Authenticate()\n",
    "    ee.Initialize()"
   ]
  },
  {
   "cell_type": "markdown",
   "metadata": {},
   "source": [
    "# Designate area of interest (AOI)"
   ]
  },
  {
   "cell_type": "markdown",
   "metadata": {},
   "source": [
    "## Set up name and directory structure"
   ]
  },
  {
   "cell_type": "markdown",
   "metadata": {},
   "source": [
    "This is where you can change the ID of the watershed"
   ]
  },
  {
   "cell_type": "code",
   "execution_count": 3,
   "metadata": {},
   "outputs": [
    {
     "data": {
      "text/html": [
       "\n",
       "            <style>\n",
       "                .geemap-dark {\n",
       "                    --jp-widgets-color: white;\n",
       "                    --jp-widgets-label-color: white;\n",
       "                    --jp-ui-font-color1: white;\n",
       "                    --jp-layout-color2: #454545;\n",
       "                    background-color: #383838;\n",
       "                }\n",
       "                    \n",
       "                .geemap-dark .jupyter-button {\n",
       "                    --jp-layout-color3: #383838;\n",
       "                }\n",
       "                \n",
       "                .geemap-colab {\n",
       "                    background-color: var(--colab-primary-surface-color, white);\n",
       "                }\n",
       "                    \n",
       "                .geemap-colab .jupyter-button {\n",
       "                    --jp-layout-color3: var(--colab-primary-surface-color, white);\n",
       "                }\n",
       "            </style>\n",
       "            "
      ],
      "text/plain": [
       "<IPython.core.display.HTML object>"
      ]
     },
     "metadata": {},
     "output_type": "display_data"
    }
   ],
   "source": [
    "# If you're doing watersheds\n",
    "HYBAS_ID = 3100086900\n",
    "aoi_name = str(HYBAS_ID)\n",
    "\n",
    "# If you're not\n",
    "aoi_name = 'test_aoi'"
   ]
  },
  {
   "cell_type": "code",
   "execution_count": 4,
   "metadata": {},
   "outputs": [
    {
     "data": {
      "text/html": [
       "\n",
       "            <style>\n",
       "                .geemap-dark {\n",
       "                    --jp-widgets-color: white;\n",
       "                    --jp-widgets-label-color: white;\n",
       "                    --jp-ui-font-color1: white;\n",
       "                    --jp-layout-color2: #454545;\n",
       "                    background-color: #383838;\n",
       "                }\n",
       "                    \n",
       "                .geemap-dark .jupyter-button {\n",
       "                    --jp-layout-color3: #383838;\n",
       "                }\n",
       "                \n",
       "                .geemap-colab {\n",
       "                    background-color: var(--colab-primary-surface-color, white);\n",
       "                }\n",
       "                    \n",
       "                .geemap-colab .jupyter-button {\n",
       "                    --jp-layout-color3: var(--colab-primary-surface-color, white);\n",
       "                }\n",
       "            </style>\n",
       "            "
      ],
      "text/plain": [
       "<IPython.core.display.HTML object>"
      ]
     },
     "metadata": {},
     "output_type": "display_data"
    }
   ],
   "source": [
    "# If you want to save things locally\n",
    "# aoi_path = Path('.', str(aoi_name))\n",
    "\n",
    "# If you're in the arctic group!\n",
    "aoi_path = Path('/sciclone/data10/watersheds', str(aoi_name))\n",
    "\n",
    "Path(Path(aoi_path)).mkdir(parents=True, exist_ok=True)"
   ]
  },
  {
   "cell_type": "markdown",
   "metadata": {},
   "source": [
    "## Set up area"
   ]
  },
  {
   "cell_type": "markdown",
   "metadata": {},
   "source": [
    "### Example: lat/long with area buffer"
   ]
  },
  {
   "cell_type": "code",
   "execution_count": 5,
   "metadata": {},
   "outputs": [
    {
     "data": {
      "text/html": [
       "\n",
       "            <style>\n",
       "                .geemap-dark {\n",
       "                    --jp-widgets-color: white;\n",
       "                    --jp-widgets-label-color: white;\n",
       "                    --jp-ui-font-color1: white;\n",
       "                    --jp-layout-color2: #454545;\n",
       "                    background-color: #383838;\n",
       "                }\n",
       "                    \n",
       "                .geemap-dark .jupyter-button {\n",
       "                    --jp-layout-color3: #383838;\n",
       "                }\n",
       "                \n",
       "                .geemap-colab {\n",
       "                    background-color: var(--colab-primary-surface-color, white);\n",
       "                }\n",
       "                    \n",
       "                .geemap-colab .jupyter-button {\n",
       "                    --jp-layout-color3: var(--colab-primary-surface-color, white);\n",
       "                }\n",
       "            </style>\n",
       "            "
      ],
      "text/plain": [
       "<IPython.core.display.HTML object>"
      ]
     },
     "metadata": {},
     "output_type": "display_data"
    }
   ],
   "source": [
    "# latitude, longitude  = (65.052164, -166.264824) # Seward Peninsula \n",
    "\n",
    "# latitude, longitude  =  (-77.56947545454703, 161.22678556499886) # Taylor Valley\n",
    "\n",
    "# latitude, longitude  = (68.62245827327547, -149.34257980791222) # WT6, Toolik\n",
    "\n",
    "latitude, longitude  = (70.98472010397577, 114.19130595044308) # Mystery russian tree tracks\n",
    "\n",
    "aoi_point = ee.Geometry.Point([longitude, latitude])\n",
    "\n",
    "aoi = aoi_point.buffer(5000).bounds()\n",
    "\n"
   ]
  },
  {
   "cell_type": "code",
   "execution_count": 6,
   "metadata": {},
   "outputs": [
    {
     "data": {
      "text/html": [
       "\n",
       "            <style>\n",
       "                .geemap-dark {\n",
       "                    --jp-widgets-color: white;\n",
       "                    --jp-widgets-label-color: white;\n",
       "                    --jp-ui-font-color1: white;\n",
       "                    --jp-layout-color2: #454545;\n",
       "                    background-color: #383838;\n",
       "                }\n",
       "                    \n",
       "                .geemap-dark .jupyter-button {\n",
       "                    --jp-layout-color3: #383838;\n",
       "                }\n",
       "                \n",
       "                .geemap-colab {\n",
       "                    background-color: var(--colab-primary-surface-color, white);\n",
       "                }\n",
       "                    \n",
       "                .geemap-colab .jupyter-button {\n",
       "                    --jp-layout-color3: var(--colab-primary-surface-color, white);\n",
       "                }\n",
       "            </style>\n",
       "            "
      ],
      "text/plain": [
       "<IPython.core.display.HTML object>"
      ]
     },
     "metadata": {},
     "output_type": "display_data"
    }
   ],
   "source": [
    "# aoi = ee.FeatureCollection(\"WWF/HydroSHEDS/v1/Basins/hybas_10\").filter(ee.Filter.eq('HYBAS_ID', HYBAS_ID))\n",
    "\n",
    "# longitude = aoi.geometry().centroid().coordinates().get(0).getInfo()\n",
    "# latitude = aoi.geometry().centroid().coordinates().get(1).getInfo()"
   ]
  },
  {
   "cell_type": "markdown",
   "metadata": {},
   "source": [
    "You can use geemap's `geemap.shp_to_ee()` function to turn a local shapefile into an AOI as well. "
   ]
  },
  {
   "cell_type": "markdown",
   "metadata": {},
   "source": [
    "# Define EE functions and get filtered ImageCollection"
   ]
  },
  {
   "cell_type": "markdown",
   "metadata": {},
   "source": [
    "## Functions"
   ]
  },
  {
   "cell_type": "code",
   "execution_count": 7,
   "metadata": {},
   "outputs": [
    {
     "data": {
      "text/html": [
       "\n",
       "            <style>\n",
       "                .geemap-dark {\n",
       "                    --jp-widgets-color: white;\n",
       "                    --jp-widgets-label-color: white;\n",
       "                    --jp-ui-font-color1: white;\n",
       "                    --jp-layout-color2: #454545;\n",
       "                    background-color: #383838;\n",
       "                }\n",
       "                    \n",
       "                .geemap-dark .jupyter-button {\n",
       "                    --jp-layout-color3: #383838;\n",
       "                }\n",
       "                \n",
       "                .geemap-colab {\n",
       "                    background-color: var(--colab-primary-surface-color, white);\n",
       "                }\n",
       "                    \n",
       "                .geemap-colab .jupyter-button {\n",
       "                    --jp-layout-color3: var(--colab-primary-surface-color, white);\n",
       "                }\n",
       "            </style>\n",
       "            "
      ],
      "text/plain": [
       "<IPython.core.display.HTML object>"
      ]
     },
     "metadata": {},
     "output_type": "display_data"
    }
   ],
   "source": [
    "def maskS2clouds(image):\n",
    "        \"\"\"Masks clouds in S2 images\n",
    "\n",
    "    Parameters:\n",
    "    image (Image): A single Image in an ImageCollection or standalone Image\n",
    "\n",
    "    Returns:\n",
    "    Image with masked features and original metadata\n",
    "\n",
    "    \"\"\"\n",
    "        qa = image.select('QA60')\n",
    "\n",
    "        # Bits 10 and 11 are clouds and cirrus, respectively.\n",
    "        cloudBitMask = 1 << 10\n",
    "        cirrusBitMask = 1 << 11\n",
    "\n",
    "        # Both flags should be set to zero, indicating clear conditions.\n",
    "        mask = qa.bitwiseAnd(cloudBitMask).eq(0) \\\n",
    "            .And(qa.bitwiseAnd(cirrusBitMask).eq(0))\n",
    "\n",
    "        return image.updateMask(mask) \\\n",
    "            .divide(10000) \\\n",
    "            .copyProperties(image, ['system:time_start'])\n",
    "\n",
    "def clp(image):\n",
    "    '''Clips a single Image to a region of interest'''\n",
    "    return image.clip(aoi)\n",
    "\n",
    "def mosaicByDate(imcol):\n",
    "        \"\"\"Creates a mosaicked Image for a single date if there are\n",
    "        multiple images from a single date \n",
    "\n",
    "    Parameters:\n",
    "    imcol (ImageCollection): An ImageCollection with images from one or more dates\n",
    "\n",
    "    Returns:\n",
    "    ImageCollection with images mosaicked by date\n",
    "\n",
    "        \"\"\"\n",
    "        # Get a list of unique dates in the image collection\n",
    "        imlist = imcol.toList(imcol.size())\n",
    "\n",
    "        unique_dates = imlist.map(lambda im: ee.Image(im).date().format(\"YYYY-MM-dd\")).distinct().getInfo()\n",
    "\n",
    "        # Create an empty list to store mosaic images\n",
    "        mosaic_imlist = []\n",
    "\n",
    "        # Loop through unique dates and create mosaic images\n",
    "        for date_str in unique_dates:\n",
    "            date = ee.Date.parse(\"YYYY-MM-dd\", date_str)\n",
    "            mosaic_image = imcol.filterDate(date, date.advance(1, \"day\")).mosaic()\n",
    "            mosaic_image = mosaic_image.set(\"system:time_start\", date.millis(), \"system:id\", date_str)\n",
    "            mosaic_imlist.append(mosaic_image)\n",
    "\n",
    "        return ee.ImageCollection(mosaic_imlist)\n",
    "\n",
    "def addNDVI(image):\n",
    "  '''Adds S2's NDVI band to each image (in an ImageCollection)'''\n",
    "  ndvi = image.normalizedDifference(['B8', 'B4']).rename('NDVI')\n",
    "  return image.addBands(ndvi)\n",
    "\n",
    "def addNDSI(image):\n",
    "    '''Adds S2's NDSI band to each image (in an ImageCollection)'''\n",
    "    ndsi = image.normalizedDifference(['B3', 'B11']).rename('NDSI')\n",
    "    return image.addBands(ndsi)\n",
    "\n",
    "def addElevation(image):\n",
    "  '''Adds ArcticDEM elevation to each image (in an ImageCollection)'''\n",
    "  elevation = ee.Image(\"UMN/PGC/ArcticDEM/V3/2m_mosaic\").select('elevation').clip(aoi).rename('ArcticDEM')\n",
    "  return image.addBands(elevation)\n",
    "\n",
    "def get_mean_snow_cover(image):\n",
    "        \"\"\"Adds a value for scene-averaged MODIS-dervied snow cover to an image (in an ImageCollection)\n",
    "\n",
    "    Parameters:\n",
    "    image (Image): A single Image in an ImageCollection or standalone Image\n",
    "\n",
    "    Returns:\n",
    "    Image with snow cover mean as a band\n",
    "\n",
    "        \"\"\"    \n",
    "        # Get MODIS snow cover product for day and location\n",
    "        ndsi_image = ee.ImageCollection('MODIS/061/MOD10A1').filterDate(\n",
    "            image.date(), image.date().advance(1, 'day')).first().select('NDSI_Snow_Cover').clip(aoi)\n",
    "        \n",
    "        image = image.addBands(ndsi_image)\n",
    "\n",
    "        # Get mean value across the scene \n",
    "        mean_value = image.reduceRegion(\n",
    "            reducer=ee.Reducer.mean(),\n",
    "            geometry=aoi,\n",
    "            scale=100,  # Resolution of Landsat data in meters\n",
    "            maxPixels = 1e9\n",
    "        )\n",
    "\n",
    "        # Get the mean value for the band\n",
    "        mean_band_value = mean_value.get('NDSI_Snow_Cover')\n",
    "\n",
    "        # Set the mean value as an image property\n",
    "        return image.set(\"mean_\" + 'NDSI_Snow_Cover', mean_band_value)\n",
    "\n",
    "def calculateNoDataPercentage(image):\n",
    "        \"\"\"Add data on masked pixel percentage as a band\n",
    "        note that total_pixels needs to be calculated first\n",
    "\n",
    "    Parameters:\n",
    "    image (Image): A single Image in an ImageCollection or standalone Image\n",
    "\n",
    "    Returns:\n",
    "    Image with \"nodata_percentage band added\"\n",
    "\n",
    "    \"\"\"\n",
    "    \n",
    "    # Any masked no data stuff will be equal to 1\n",
    "        nodata_mask = image.select('B1').mask().eq(0)\n",
    "            \n",
    "        # Sum up the nodata 1's\n",
    "        # nodata_pixels = nodata_mask.reduceRegion(\n",
    "        #     reducer=ee.Reducer.sum(),\n",
    "        #     geometry=aoi,\n",
    "        #     scale=100,  # s2 res\n",
    "        #     maxPixels = 1e9\n",
    "        # )\n",
    "        \n",
    "        # # Calculate the percentage of NoData values\n",
    "        # percentage_nodata = nodata_pixels.getNumber('B1').divide(total_pixels.getNumber('B1')).multiply(100)\n",
    "\n",
    "        \n",
    "        # # Set the NoData percentage as an image property\n",
    "        # return image.set(\"nodata_percentage\", percentage_nodata)  \n",
    "        nodata_stats = nodata_mask.reduceRegion(\n",
    "        reducer=ee.Reducer.sum().combine(\n",
    "            reducer2=ee.Reducer.count(),\n",
    "            sharedInputs=True\n",
    "        ),\n",
    "        geometry=aoi,  # Assuming 'aoi' is defined somewhere in your script\n",
    "        scale=100,  # Adjust the scale according to your requirements\n",
    "        maxPixels=1e9\n",
    "        )\n",
    "\n",
    "        # Extract sum and count values\n",
    "        sum_nodata_pixels = nodata_stats.getNumber('B1_sum')\n",
    "        count_nodata_pixels = nodata_stats.getNumber('B1_count')\n",
    "\n",
    "        # Calculate percentage\n",
    "        nodata_percentage = sum_nodata_pixels.divide(count_nodata_pixels).multiply(100)\n",
    "\n",
    "        # Add NoData percentage as a band\n",
    "        return image.set('nodata_percentage', nodata_percentage)\n",
    "\n",
    "\n",
    "def get_white_pixel_percent(image):\n",
    "        \"\"\"Add data on pixel percentage that is white in grayscale as a band\n",
    "        note that total_pixels needs to be calculated first\n",
    "\n",
    "    Parameters:\n",
    "    image (Image): A single Image in an ImageCollection or standalone Image\n",
    "\n",
    "    Returns:\n",
    "    Image with \"white_percentage\" band added\n",
    "\n",
    "    \"\"\"    \n",
    "        grayscale = image.expression(\n",
    "            '(.3 * 1e4 * R) + (.59 * 1e4 * G) + (.11 * 1e4 * B)', {\n",
    "            # '(R + G + B) / 3', {\n",
    "            'R': image.select('B4'),\n",
    "            'G': image.select('B3'),\n",
    "            'B': image.select('B2')\n",
    "        })\n",
    "\n",
    "        white_mask = grayscale.gt(2000)\n",
    "        \n",
    "        # white_mask needs to = 1\n",
    "\n",
    "        # white_pixels = white_mask.reduceRegion(\n",
    "        #     reducer=ee.Reducer.sum(),\n",
    "        #     geometry=aoi,\n",
    "        #     scale=100,  # s2 res\n",
    "        #     maxPixels = 1e9\n",
    "        # )\n",
    "\n",
    "        # # # Calculate the total number of pixels within the ROI\n",
    "        # # total_pixels = image.select('B1').reduceRegion(\n",
    "        # #     reducer=ee.Reducer.count(),\n",
    "        # #     scale=10,  # s2 res\n",
    "        # #     maxPixels = 1e9\n",
    "        # # )\n",
    "\n",
    "        # # percentage_white = white_pixels.getNumber('constant').divide(total_pixels.getNumber('B1')).multiply(100)\n",
    "        \n",
    "        # total_pixels = image.getNumber('total_pixels')  # Get total_pixels from the image properties\n",
    "\n",
    "        # percentage_white = white_pixels.getNumber('constant').divide(total_pixels).multiply(100)\n",
    "        \n",
    "        # # Set the NoData percentage as an image property\n",
    "        # return image.set(\"white_percentage\", percentage_white).set(\"white_pixel_count\", white_pixels.getNumber('constant')) \n",
    "        white_pixel_stats = white_mask.reduceRegion(\n",
    "        reducer=ee.Reducer.sum().combine(\n",
    "                reducer2=ee.Reducer.count(),\n",
    "                sharedInputs=True\n",
    "            ),\n",
    "            geometry=aoi,  # Assuming 'aoi' is defined somewhere in your script\n",
    "            scale=100,  # Adjust the scale according to your requirements\n",
    "            maxPixels=1e9\n",
    "        )\n",
    "\n",
    "        # Extract sum and count values\n",
    "        sum_white_pixels = white_pixel_stats.getNumber('constant_sum')\n",
    "        count_white_pixels = white_pixel_stats.getNumber('constant_count')\n",
    "\n",
    "        # Calculate percentage\n",
    "        white_percentage = sum_white_pixels.divide(count_white_pixels).multiply(100)\n",
    "\n",
    "        return image.set(\"white_percentage\", white_percentage)\n",
    "\n",
    "def calcTotalPixels(image):\n",
    "    \"\"\"Add data on total pixels as a band\n",
    "\n",
    "    Parameters:\n",
    "    image (Image): A single Image in an ImageCollection or standalone Image\n",
    "\n",
    "    Returns:\n",
    "    Image with \"total_pixels\" band added\n",
    "\n",
    "    \"\"\"    \n",
    "    total_pixels = image.select('B1').reduceRegion(\n",
    "        reducer=ee.Reducer.count(),\n",
    "        scale=100,  \n",
    "        maxPixels = 1e9,\n",
    "        geometry=aoi\n",
    "    )\n",
    "    return image.set(\"total_pixels\", total_pixels.getNumber('B1')) \n",
    "\n",
    "def getVisibleImages(Map):\n",
    "        \"\"\"Retrieves names of layers visible on the Map \n",
    "\n",
    "    Parameters:\n",
    "    Map (Map): A geemap.Map() \n",
    "\n",
    "    Returns:\n",
    "    A list of strings corresponding to the labels on the Map layers\n",
    "    if they are dates (as needed for the original notebook)\n",
    "\n",
    "    \"\"\"    \n",
    "        map_layers = list(Map.layers)\n",
    "        visibility_status = [layer.visible for layer in map_layers]\n",
    "        visible_layers = [x.name for x, y in zip(map_layers, visibility_status) if y == True]\n",
    "        return [x for x in visible_layers if '-' in x and datetime.strptime(x, '%Y-%m-%d')]\n"
   ]
  },
  {
   "cell_type": "markdown",
   "metadata": {},
   "source": [
    "## Set filtering parameters "
   ]
  },
  {
   "cell_type": "markdown",
   "metadata": {},
   "source": [
    "If you notice that your ImageCollections are empty, try changing these!"
   ]
  },
  {
   "cell_type": "code",
   "execution_count": 8,
   "metadata": {},
   "outputs": [
    {
     "data": {
      "text/html": [
       "\n",
       "            <style>\n",
       "                .geemap-dark {\n",
       "                    --jp-widgets-color: white;\n",
       "                    --jp-widgets-label-color: white;\n",
       "                    --jp-ui-font-color1: white;\n",
       "                    --jp-layout-color2: #454545;\n",
       "                    background-color: #383838;\n",
       "                }\n",
       "                    \n",
       "                .geemap-dark .jupyter-button {\n",
       "                    --jp-layout-color3: #383838;\n",
       "                }\n",
       "                \n",
       "                .geemap-colab {\n",
       "                    background-color: var(--colab-primary-surface-color, white);\n",
       "                }\n",
       "                    \n",
       "                .geemap-colab .jupyter-button {\n",
       "                    --jp-layout-color3: var(--colab-primary-surface-color, white);\n",
       "                }\n",
       "            </style>\n",
       "            "
      ],
      "text/plain": [
       "<IPython.core.display.HTML object>"
      ]
     },
     "metadata": {},
     "output_type": "display_data"
    }
   ],
   "source": [
    "# Seward \n",
    "snow_cover_threshold = 0\n",
    "threshold_nodata_percent = 0.5\n",
    "threshold_white_percent = 2\n",
    "\n",
    "# Antarctica?\n",
    "# snow_cover_threshold = 100\n",
    "# threshold_nodata_percent = 50\n",
    "# threshold_white_percent = 100\n",
    "\n",
    "\n",
    "# Limit images added to the Map\n",
    "image_limit=5"
   ]
  },
  {
   "cell_type": "markdown",
   "metadata": {},
   "source": [
    "## Build ImageCollection"
   ]
  },
  {
   "cell_type": "markdown",
   "metadata": {},
   "source": [
    "This step involves loading in Sentinel 2 data and applies your first filter for dates and cloudy percentage as well as filtering to images that intersect with the bounds of your area of interest and masking for clouds. \n",
    "\n",
    "For detecting water tracks we want to look at the growing season (months 5 to 9) but adjust based on science question. "
   ]
  },
  {
   "cell_type": "code",
   "execution_count": 9,
   "metadata": {},
   "outputs": [
    {
     "data": {
      "text/html": [
       "\n",
       "            <style>\n",
       "                .geemap-dark {\n",
       "                    --jp-widgets-color: white;\n",
       "                    --jp-widgets-label-color: white;\n",
       "                    --jp-ui-font-color1: white;\n",
       "                    --jp-layout-color2: #454545;\n",
       "                    background-color: #383838;\n",
       "                }\n",
       "                    \n",
       "                .geemap-dark .jupyter-button {\n",
       "                    --jp-layout-color3: #383838;\n",
       "                }\n",
       "                \n",
       "                .geemap-colab {\n",
       "                    background-color: var(--colab-primary-surface-color, white);\n",
       "                }\n",
       "                    \n",
       "                .geemap-colab .jupyter-button {\n",
       "                    --jp-layout-color3: var(--colab-primary-surface-color, white);\n",
       "                }\n",
       "            </style>\n",
       "            "
      ],
      "text/plain": [
       "<IPython.core.display.HTML object>"
      ]
     },
     "metadata": {},
     "output_type": "display_data"
    }
   ],
   "source": [
    "dataset = (\n",
    "                ee.ImageCollection('COPERNICUS/S2_SR_HARMONIZED')\n",
    "                .filter(ee.Filter.calendarRange(2019,2023,'year'))\n",
    "                .filter(ee.Filter.calendarRange(5,9,'month'))\n",
    "                # Pre-filter to get less cloudy granules.\n",
    "                .filter(ee.Filter.lt('CLOUDY_PIXEL_PERCENTAGE', 10))\n",
    "                # .filterBounds(aoi.centroid())'\n",
    "                .filterBounds(aoi)\n",
    "                .map(clp)\n",
    "                .map(maskS2clouds)\n",
    ")"
   ]
  },
  {
   "cell_type": "code",
   "execution_count": 10,
   "metadata": {},
   "outputs": [
    {
     "data": {
      "text/html": [
       "\n",
       "            <style>\n",
       "                .geemap-dark {\n",
       "                    --jp-widgets-color: white;\n",
       "                    --jp-widgets-label-color: white;\n",
       "                    --jp-ui-font-color1: white;\n",
       "                    --jp-layout-color2: #454545;\n",
       "                    background-color: #383838;\n",
       "                }\n",
       "                    \n",
       "                .geemap-dark .jupyter-button {\n",
       "                    --jp-layout-color3: #383838;\n",
       "                }\n",
       "                \n",
       "                .geemap-colab {\n",
       "                    background-color: var(--colab-primary-surface-color, white);\n",
       "                }\n",
       "                    \n",
       "                .geemap-colab .jupyter-button {\n",
       "                    --jp-layout-color3: var(--colab-primary-surface-color, white);\n",
       "                }\n",
       "            </style>\n",
       "            "
      ],
      "text/plain": [
       "<IPython.core.display.HTML object>"
      ]
     },
     "metadata": {},
     "output_type": "display_data"
    }
   ],
   "source": [
    "# Map = geemap.Map(center=[latitude, longitude], zoom=11)\n",
    "# RGB_vis_params = {'min': 0.0, 'max': 0.3}\n",
    "# Map.addLayer(dataset.first().select('MSK_SNWPRB'))\n",
    "# Map.addLayer(dataset.first().select('NDSI'))\n",
    "# Map.addLayer(dataset.first().select('B4', 'B3', 'B2'), RGB_vis_params)\n",
    "# Map "
   ]
  },
  {
   "cell_type": "code",
   "execution_count": 11,
   "metadata": {},
   "outputs": [
    {
     "data": {
      "text/html": [
       "\n",
       "            <style>\n",
       "                .geemap-dark {\n",
       "                    --jp-widgets-color: white;\n",
       "                    --jp-widgets-label-color: white;\n",
       "                    --jp-ui-font-color1: white;\n",
       "                    --jp-layout-color2: #454545;\n",
       "                    background-color: #383838;\n",
       "                }\n",
       "                    \n",
       "                .geemap-dark .jupyter-button {\n",
       "                    --jp-layout-color3: #383838;\n",
       "                }\n",
       "                \n",
       "                .geemap-colab {\n",
       "                    background-color: var(--colab-primary-surface-color, white);\n",
       "                }\n",
       "                    \n",
       "                .geemap-colab .jupyter-button {\n",
       "                    --jp-layout-color3: var(--colab-primary-surface-color, white);\n",
       "                }\n",
       "            </style>\n",
       "            "
      ],
      "text/plain": [
       "<IPython.core.display.HTML object>"
      ]
     },
     "metadata": {},
     "output_type": "display_data"
    }
   ],
   "source": [
    "dataset = mosaicByDate(dataset).map(addNDVI).map(addNDSI).map(addElevation)\n",
    "\n",
    "collection_with_data = dataset.map(calcTotalPixels).map(calculateNoDataPercentage).map(get_white_pixel_percent)\n"
   ]
  },
  {
   "cell_type": "code",
   "execution_count": 12,
   "metadata": {},
   "outputs": [
    {
     "data": {
      "text/html": [
       "\n",
       "            <style>\n",
       "                .geemap-dark {\n",
       "                    --jp-widgets-color: white;\n",
       "                    --jp-widgets-label-color: white;\n",
       "                    --jp-ui-font-color1: white;\n",
       "                    --jp-layout-color2: #454545;\n",
       "                    background-color: #383838;\n",
       "                }\n",
       "                    \n",
       "                .geemap-dark .jupyter-button {\n",
       "                    --jp-layout-color3: #383838;\n",
       "                }\n",
       "                \n",
       "                .geemap-colab {\n",
       "                    background-color: var(--colab-primary-surface-color, white);\n",
       "                }\n",
       "                    \n",
       "                .geemap-colab .jupyter-button {\n",
       "                    --jp-layout-color3: var(--colab-primary-surface-color, white);\n",
       "                }\n",
       "            </style>\n",
       "            "
      ],
      "text/plain": [
       "<IPython.core.display.HTML object>"
      ]
     },
     "metadata": {},
     "output_type": "display_data"
    },
    {
     "name": "stdout",
     "output_type": "stream",
     "text": [
      "Number of images in collection: 53\n"
     ]
    }
   ],
   "source": [
    "# Basically a \"too many aggregated requests\" error can be thrown if you do TOO much at once (like three reduceRegions and filters)\n",
    "# So my strategy here is to subsume the snow filter into the white filter\n",
    "\n",
    "filtered_collection = collection_with_data.filter(ee.Filter.lte(\"nodata_percentage\", threshold_nodata_percent))\n",
    "filtered_collection = filtered_collection.filter(ee.Filter.lte(\"white_percentage\", threshold_white_percent))\n",
    "\n",
    "filtered_collection_size = len(filtered_collection.aggregate_array(\"system:index\").getInfo())\n",
    "\n",
    "print(f'Number of images in collection: {filtered_collection_size}')"
   ]
  },
  {
   "cell_type": "code",
   "execution_count": 13,
   "metadata": {},
   "outputs": [
    {
     "data": {
      "text/html": [
       "\n",
       "            <style>\n",
       "                .geemap-dark {\n",
       "                    --jp-widgets-color: white;\n",
       "                    --jp-widgets-label-color: white;\n",
       "                    --jp-ui-font-color1: white;\n",
       "                    --jp-layout-color2: #454545;\n",
       "                    background-color: #383838;\n",
       "                }\n",
       "                    \n",
       "                .geemap-dark .jupyter-button {\n",
       "                    --jp-layout-color3: #383838;\n",
       "                }\n",
       "                \n",
       "                .geemap-colab {\n",
       "                    background-color: var(--colab-primary-surface-color, white);\n",
       "                }\n",
       "                    \n",
       "                .geemap-colab .jupyter-button {\n",
       "                    --jp-layout-color3: var(--colab-primary-surface-color, white);\n",
       "                }\n",
       "            </style>\n",
       "            "
      ],
      "text/plain": [
       "<IPython.core.display.HTML object>"
      ]
     },
     "metadata": {},
     "output_type": "display_data"
    }
   ],
   "source": [
    "# This line only instantiates a \"Map\" object from gee\n",
    "# You need to make one to add layers to it\n",
    "# but we don't display it yet \n",
    "\n",
    "# If you run this line after adding layers, \n",
    "# you will lose the layers because you made a new Map\n",
    "Map = geemap.Map(center=[latitude, longitude], zoom=11)"
   ]
  },
  {
   "cell_type": "code",
   "execution_count": 14,
   "metadata": {},
   "outputs": [
    {
     "data": {
      "text/html": [
       "\n",
       "            <style>\n",
       "                .geemap-dark {\n",
       "                    --jp-widgets-color: white;\n",
       "                    --jp-widgets-label-color: white;\n",
       "                    --jp-ui-font-color1: white;\n",
       "                    --jp-layout-color2: #454545;\n",
       "                    background-color: #383838;\n",
       "                }\n",
       "                    \n",
       "                .geemap-dark .jupyter-button {\n",
       "                    --jp-layout-color3: #383838;\n",
       "                }\n",
       "                \n",
       "                .geemap-colab {\n",
       "                    background-color: var(--colab-primary-surface-color, white);\n",
       "                }\n",
       "                    \n",
       "                .geemap-colab .jupyter-button {\n",
       "                    --jp-layout-color3: var(--colab-primary-surface-color, white);\n",
       "                }\n",
       "            </style>\n",
       "            "
      ],
      "text/plain": [
       "<IPython.core.display.HTML object>"
      ]
     },
     "metadata": {},
     "output_type": "display_data"
    },
    {
     "name": "stdout",
     "output_type": "stream",
     "text": [
      "Remember I am limiting the image list to 5 of 53 images\n"
     ]
    }
   ],
   "source": [
    "for image_id in filtered_collection.aggregate_array(\"system:index\").getInfo()[0:image_limit]:\n",
    "    image = filtered_collection.filterMetadata(\"system:index\", \"equals\", image_id).first()\n",
    "    \n",
    "    image_RGB = image.select('B4', 'B3', 'B2') \n",
    "    # image_RGB = image.select('B4') \n",
    "    RGB_vis_params = {'min': 0.0, 'max': 0.3}\n",
    "    Map.addLayer(image_RGB, RGB_vis_params, ee.Image(image).date().format('yyyy-MM-dd').getInfo(), True)\n",
    "\n",
    "print(f'Remember I am limiting the image list to {image_limit} of {filtered_collection_size} images')\n"
   ]
  },
  {
   "cell_type": "code",
   "execution_count": 31,
   "metadata": {},
   "outputs": [
    {
     "data": {
      "text/html": [
       "\n",
       "            <style>\n",
       "                .geemap-dark {\n",
       "                    --jp-widgets-color: white;\n",
       "                    --jp-widgets-label-color: white;\n",
       "                    --jp-ui-font-color1: white;\n",
       "                    --jp-layout-color2: #454545;\n",
       "                    background-color: #383838;\n",
       "                }\n",
       "                    \n",
       "                .geemap-dark .jupyter-button {\n",
       "                    --jp-layout-color3: #383838;\n",
       "                }\n",
       "                \n",
       "                .geemap-colab {\n",
       "                    background-color: var(--colab-primary-surface-color, white);\n",
       "                }\n",
       "                    \n",
       "                .geemap-colab .jupyter-button {\n",
       "                    --jp-layout-color3: var(--colab-primary-surface-color, white);\n",
       "                }\n",
       "            </style>\n",
       "            "
      ],
      "text/plain": [
       "<IPython.core.display.HTML object>"
      ]
     },
     "metadata": {},
     "output_type": "display_data"
    }
   ],
   "source": [
    "elevation = ee.Image(\"UMN/PGC/ArcticDEM/V3/2m_mosaic\").select('elevation').rename('ArcticDEM')\n",
    "\n",
    "if latitude > 60:\n",
    "    Map.addLayer(elevation, {}, \"elevation\",False)\n",
    "\n",
    "    contours = geemap.create_contours(elevation, 0, 3000, 3, region=None)\n",
    "\n",
    "    Map.addLayer(\n",
    "        contours, {}, \"contours\"\n",
    "    )\n",
    "else:\n",
    "    print(\"probably not available in ArcticDEM\")\n",
    "    # To do - get other DEM "
   ]
  },
  {
   "cell_type": "markdown",
   "metadata": {},
   "source": [
    "# Map"
   ]
  },
  {
   "cell_type": "markdown",
   "metadata": {},
   "source": [
    "Now if you click on the wrench in the right top corner, followed by the \"Layers\" button, you can toggle through imagery that passed the filter. \n",
    "\n",
    "If you notice squares missing from the imagery, it might be a rendering/tiling issue - if you zoom in and out the map will re-tile and the problem is usually solved. The data are there, I promise. \n"
   ]
  },
  {
   "cell_type": "code",
   "execution_count": 17,
   "metadata": {},
   "outputs": [
    {
     "data": {
      "text/html": [
       "\n",
       "            <style>\n",
       "                .geemap-dark {\n",
       "                    --jp-widgets-color: white;\n",
       "                    --jp-widgets-label-color: white;\n",
       "                    --jp-ui-font-color1: white;\n",
       "                    --jp-layout-color2: #454545;\n",
       "                    background-color: #383838;\n",
       "                }\n",
       "                    \n",
       "                .geemap-dark .jupyter-button {\n",
       "                    --jp-layout-color3: #383838;\n",
       "                }\n",
       "                \n",
       "                .geemap-colab {\n",
       "                    background-color: var(--colab-primary-surface-color, white);\n",
       "                }\n",
       "                    \n",
       "                .geemap-colab .jupyter-button {\n",
       "                    --jp-layout-color3: var(--colab-primary-surface-color, white);\n",
       "                }\n",
       "            </style>\n",
       "            "
      ],
      "text/plain": [
       "<IPython.core.display.HTML object>"
      ]
     },
     "metadata": {},
     "output_type": "display_data"
    },
    {
     "data": {
      "application/vnd.jupyter.widget-view+json": {
       "model_id": "9263710db5a14cc78e7b70955a5b9b94",
       "version_major": 2,
       "version_minor": 0
      },
      "text/plain": [
       "Map(center=[70.98472010397577, 114.19130595044308], controls=(WidgetControl(options=['position', 'transparent_…"
      ]
     },
     "execution_count": 17,
     "metadata": {},
     "output_type": "execute_result"
    }
   ],
   "source": [
    "Map"
   ]
  },
  {
   "cell_type": "markdown",
   "metadata": {},
   "source": [
    "# Extract elevation profile(s)"
   ]
  },
  {
   "cell_type": "markdown",
   "metadata": {},
   "source": [
    "## Get line data into a dataframe"
   ]
  },
  {
   "cell_type": "code",
   "execution_count": 138,
   "metadata": {},
   "outputs": [
    {
     "data": {
      "text/html": [
       "\n",
       "            <style>\n",
       "                .geemap-dark {\n",
       "                    --jp-widgets-color: white;\n",
       "                    --jp-widgets-label-color: white;\n",
       "                    --jp-ui-font-color1: white;\n",
       "                    --jp-layout-color2: #454545;\n",
       "                    background-color: #383838;\n",
       "                }\n",
       "                    \n",
       "                .geemap-dark .jupyter-button {\n",
       "                    --jp-layout-color3: #383838;\n",
       "                }\n",
       "                \n",
       "                .geemap-colab {\n",
       "                    background-color: var(--colab-primary-surface-color, white);\n",
       "                }\n",
       "                    \n",
       "                .geemap-colab .jupyter-button {\n",
       "                    --jp-layout-color3: var(--colab-primary-surface-color, white);\n",
       "                }\n",
       "            </style>\n",
       "            "
      ],
      "text/plain": [
       "<IPython.core.display.HTML object>"
      ]
     },
     "metadata": {},
     "output_type": "display_data"
    },
    {
     "data": {
      "application/vnd.jupyter.widget-view+json": {
       "model_id": "2e09c73632564713b0847a90294845e6",
       "version_major": 2,
       "version_minor": 0
      },
      "text/plain": [
       "Output(layout=Layout(width='815px'))"
      ]
     },
     "metadata": {},
     "output_type": "display_data"
    }
   ],
   "source": [
    "geemap.show_youtube(\"N7rK2aV1R4c\")"
   ]
  },
  {
   "cell_type": "code",
   "execution_count": 128,
   "metadata": {},
   "outputs": [
    {
     "data": {
      "text/html": [
       "\n",
       "            <style>\n",
       "                .geemap-dark {\n",
       "                    --jp-widgets-color: white;\n",
       "                    --jp-widgets-label-color: white;\n",
       "                    --jp-ui-font-color1: white;\n",
       "                    --jp-layout-color2: #454545;\n",
       "                    background-color: #383838;\n",
       "                }\n",
       "                    \n",
       "                .geemap-dark .jupyter-button {\n",
       "                    --jp-layout-color3: #383838;\n",
       "                }\n",
       "                \n",
       "                .geemap-colab {\n",
       "                    background-color: var(--colab-primary-surface-color, white);\n",
       "                }\n",
       "                    \n",
       "                .geemap-colab .jupyter-button {\n",
       "                    --jp-layout-color3: var(--colab-primary-surface-color, white);\n",
       "                }\n",
       "            </style>\n",
       "            "
      ],
      "text/plain": [
       "<IPython.core.display.HTML object>"
      ]
     },
     "metadata": {},
     "output_type": "display_data"
    }
   ],
   "source": [
    "# elevation = dataset.first().select('ArcticDEM')"
   ]
  },
  {
   "cell_type": "code",
   "execution_count": 54,
   "metadata": {},
   "outputs": [
    {
     "data": {
      "text/html": [
       "\n",
       "            <style>\n",
       "                .geemap-dark {\n",
       "                    --jp-widgets-color: white;\n",
       "                    --jp-widgets-label-color: white;\n",
       "                    --jp-ui-font-color1: white;\n",
       "                    --jp-layout-color2: #454545;\n",
       "                    background-color: #383838;\n",
       "                }\n",
       "                    \n",
       "                .geemap-dark .jupyter-button {\n",
       "                    --jp-layout-color3: #383838;\n",
       "                }\n",
       "                \n",
       "                .geemap-colab {\n",
       "                    background-color: var(--colab-primary-surface-color, white);\n",
       "                }\n",
       "                    \n",
       "                .geemap-colab .jupyter-button {\n",
       "                    --jp-layout-color3: var(--colab-primary-surface-color, white);\n",
       "                }\n",
       "            </style>\n",
       "            "
      ],
      "text/plain": [
       "<IPython.core.display.HTML object>"
      ]
     },
     "metadata": {},
     "output_type": "display_data"
    }
   ],
   "source": [
    "lines_list = Map.draw_features\n",
    "\n",
    "reducer = 'mean'  # Any ee.Reducer, e.g., mean, median, min, max, stdDev\n",
    "\n",
    "transects = pd.DataFrame(columns=['line_number', reducer, 'distance'])\n",
    "for i, line in enumerate(lines_list):\n",
    "  # print(f'Line number {i} is {line}')\n",
    "\n",
    "  # https://geemap.org/common/#geemap.common.extract_transect\n",
    "    transect = geemap.extract_transect(\n",
    "      elevation,\n",
    "      line.geometry(), # The function can only take LineStrings, so you need to call geometry or else you're just looking at a Feature\n",
    "      n_segments=100,\n",
    "      reducer=reducer,\n",
    "      to_pandas=True,\n",
    "    )\n",
    "    transect['line_number'] = i\n",
    "    transects = pd.concat([transects, transect], axis=0)"
   ]
  },
  {
   "cell_type": "code",
   "execution_count": 19,
   "metadata": {},
   "outputs": [
    {
     "data": {
      "text/html": [
       "\n",
       "            <style>\n",
       "                .geemap-dark {\n",
       "                    --jp-widgets-color: white;\n",
       "                    --jp-widgets-label-color: white;\n",
       "                    --jp-ui-font-color1: white;\n",
       "                    --jp-layout-color2: #454545;\n",
       "                    background-color: #383838;\n",
       "                }\n",
       "                    \n",
       "                .geemap-dark .jupyter-button {\n",
       "                    --jp-layout-color3: #383838;\n",
       "                }\n",
       "                \n",
       "                .geemap-colab {\n",
       "                    background-color: var(--colab-primary-surface-color, white);\n",
       "                }\n",
       "                    \n",
       "                .geemap-colab .jupyter-button {\n",
       "                    --jp-layout-color3: var(--colab-primary-surface-color, white);\n",
       "                }\n",
       "            </style>\n",
       "            "
      ],
      "text/plain": [
       "<IPython.core.display.HTML object>"
      ]
     },
     "metadata": {},
     "output_type": "display_data"
    }
   ],
   "source": [
    "# geemap.ee_to_shp(ee.FeatureCollection(Map.draw_features), filename='arctic_transects.shp')"
   ]
  },
  {
   "cell_type": "markdown",
   "metadata": {},
   "source": [
    "## Example plotting topographic data"
   ]
  },
  {
   "cell_type": "code",
   "execution_count": 19,
   "metadata": {},
   "outputs": [
    {
     "data": {
      "text/html": [
       "\n",
       "            <style>\n",
       "                .geemap-dark {\n",
       "                    --jp-widgets-color: white;\n",
       "                    --jp-widgets-label-color: white;\n",
       "                    --jp-ui-font-color1: white;\n",
       "                    --jp-layout-color2: #454545;\n",
       "                    background-color: #383838;\n",
       "                }\n",
       "                    \n",
       "                .geemap-dark .jupyter-button {\n",
       "                    --jp-layout-color3: #383838;\n",
       "                }\n",
       "                \n",
       "                .geemap-colab {\n",
       "                    background-color: var(--colab-primary-surface-color, white);\n",
       "                }\n",
       "                    \n",
       "                .geemap-colab .jupyter-button {\n",
       "                    --jp-layout-color3: var(--colab-primary-surface-color, white);\n",
       "                }\n",
       "            </style>\n",
       "            "
      ],
      "text/plain": [
       "<IPython.core.display.HTML object>"
      ]
     },
     "metadata": {},
     "output_type": "display_data"
    }
   ],
   "source": [
    "# gdf = gpd.read_file('arctic_transects.shp')\n",
    "# gdf.explore()"
   ]
  },
  {
   "cell_type": "code",
   "execution_count": 55,
   "metadata": {},
   "outputs": [
    {
     "data": {
      "text/html": [
       "\n",
       "            <style>\n",
       "                .geemap-dark {\n",
       "                    --jp-widgets-color: white;\n",
       "                    --jp-widgets-label-color: white;\n",
       "                    --jp-ui-font-color1: white;\n",
       "                    --jp-layout-color2: #454545;\n",
       "                    background-color: #383838;\n",
       "                }\n",
       "                    \n",
       "                .geemap-dark .jupyter-button {\n",
       "                    --jp-layout-color3: #383838;\n",
       "                }\n",
       "                \n",
       "                .geemap-colab {\n",
       "                    background-color: var(--colab-primary-surface-color, white);\n",
       "                }\n",
       "                    \n",
       "                .geemap-colab .jupyter-button {\n",
       "                    --jp-layout-color3: var(--colab-primary-surface-color, white);\n",
       "                }\n",
       "            </style>\n",
       "            "
      ],
      "text/plain": [
       "<IPython.core.display.HTML object>"
      ]
     },
     "metadata": {},
     "output_type": "display_data"
    },
    {
     "data": {
      "text/html": [
       "<div>\n",
       "<style scoped>\n",
       "    .dataframe tbody tr th:only-of-type {\n",
       "        vertical-align: middle;\n",
       "    }\n",
       "\n",
       "    .dataframe tbody tr th {\n",
       "        vertical-align: top;\n",
       "    }\n",
       "\n",
       "    .dataframe thead th {\n",
       "        text-align: right;\n",
       "    }\n",
       "</style>\n",
       "<table border=\"1\" class=\"dataframe\">\n",
       "  <thead>\n",
       "    <tr style=\"text-align: right;\">\n",
       "      <th></th>\n",
       "      <th>line_number</th>\n",
       "      <th>mean</th>\n",
       "      <th>distance</th>\n",
       "    </tr>\n",
       "  </thead>\n",
       "  <tbody>\n",
       "    <tr>\n",
       "      <th>0</th>\n",
       "      <td>0</td>\n",
       "      <td>129.944870</td>\n",
       "      <td>0.000000</td>\n",
       "    </tr>\n",
       "    <tr>\n",
       "      <th>1</th>\n",
       "      <td>0</td>\n",
       "      <td>NaN</td>\n",
       "      <td>0.654156</td>\n",
       "    </tr>\n",
       "    <tr>\n",
       "      <th>2</th>\n",
       "      <td>0</td>\n",
       "      <td>NaN</td>\n",
       "      <td>1.308313</td>\n",
       "    </tr>\n",
       "    <tr>\n",
       "      <th>3</th>\n",
       "      <td>0</td>\n",
       "      <td>129.958107</td>\n",
       "      <td>1.962469</td>\n",
       "    </tr>\n",
       "    <tr>\n",
       "      <th>4</th>\n",
       "      <td>0</td>\n",
       "      <td>NaN</td>\n",
       "      <td>2.616625</td>\n",
       "    </tr>\n",
       "    <tr>\n",
       "      <th>...</th>\n",
       "      <td>...</td>\n",
       "      <td>...</td>\n",
       "      <td>...</td>\n",
       "    </tr>\n",
       "    <tr>\n",
       "      <th>95</th>\n",
       "      <td>0</td>\n",
       "      <td>NaN</td>\n",
       "      <td>62.144847</td>\n",
       "    </tr>\n",
       "    <tr>\n",
       "      <th>96</th>\n",
       "      <td>0</td>\n",
       "      <td>129.770210</td>\n",
       "      <td>62.799003</td>\n",
       "    </tr>\n",
       "    <tr>\n",
       "      <th>97</th>\n",
       "      <td>0</td>\n",
       "      <td>NaN</td>\n",
       "      <td>63.453159</td>\n",
       "    </tr>\n",
       "    <tr>\n",
       "      <th>98</th>\n",
       "      <td>0</td>\n",
       "      <td>129.798332</td>\n",
       "      <td>64.107316</td>\n",
       "    </tr>\n",
       "    <tr>\n",
       "      <th>99</th>\n",
       "      <td>0</td>\n",
       "      <td>NaN</td>\n",
       "      <td>64.761472</td>\n",
       "    </tr>\n",
       "  </tbody>\n",
       "</table>\n",
       "<p>100 rows × 3 columns</p>\n",
       "</div>"
      ],
      "text/plain": [
       "   line_number        mean   distance\n",
       "0            0  129.944870   0.000000\n",
       "1            0         NaN   0.654156\n",
       "2            0         NaN   1.308313\n",
       "3            0  129.958107   1.962469\n",
       "4            0         NaN   2.616625\n",
       "..         ...         ...        ...\n",
       "95           0         NaN  62.144847\n",
       "96           0  129.770210  62.799003\n",
       "97           0         NaN  63.453159\n",
       "98           0  129.798332  64.107316\n",
       "99           0         NaN  64.761472\n",
       "\n",
       "[100 rows x 3 columns]"
      ]
     },
     "execution_count": 55,
     "metadata": {},
     "output_type": "execute_result"
    }
   ],
   "source": [
    "transects"
   ]
  },
  {
   "cell_type": "code",
   "execution_count": 34,
   "metadata": {},
   "outputs": [
    {
     "data": {
      "text/html": [
       "\n",
       "            <style>\n",
       "                .geemap-dark {\n",
       "                    --jp-widgets-color: white;\n",
       "                    --jp-widgets-label-color: white;\n",
       "                    --jp-ui-font-color1: white;\n",
       "                    --jp-layout-color2: #454545;\n",
       "                    background-color: #383838;\n",
       "                }\n",
       "                    \n",
       "                .geemap-dark .jupyter-button {\n",
       "                    --jp-layout-color3: #383838;\n",
       "                }\n",
       "                \n",
       "                .geemap-colab {\n",
       "                    background-color: var(--colab-primary-surface-color, white);\n",
       "                }\n",
       "                    \n",
       "                .geemap-colab .jupyter-button {\n",
       "                    --jp-layout-color3: var(--colab-primary-surface-color, white);\n",
       "                }\n",
       "            </style>\n",
       "            "
      ],
      "text/plain": [
       "<IPython.core.display.HTML object>"
      ]
     },
     "metadata": {},
     "output_type": "display_data"
    }
   ],
   "source": [
    "transects['gradient'] = (transects['mean'].diff()) / (transects['distance'].diff())"
   ]
  },
  {
   "cell_type": "code",
   "execution_count": 56,
   "metadata": {},
   "outputs": [
    {
     "data": {
      "text/html": [
       "\n",
       "            <style>\n",
       "                .geemap-dark {\n",
       "                    --jp-widgets-color: white;\n",
       "                    --jp-widgets-label-color: white;\n",
       "                    --jp-ui-font-color1: white;\n",
       "                    --jp-layout-color2: #454545;\n",
       "                    background-color: #383838;\n",
       "                }\n",
       "                    \n",
       "                .geemap-dark .jupyter-button {\n",
       "                    --jp-layout-color3: #383838;\n",
       "                }\n",
       "                \n",
       "                .geemap-colab {\n",
       "                    background-color: var(--colab-primary-surface-color, white);\n",
       "                }\n",
       "                    \n",
       "                .geemap-colab .jupyter-button {\n",
       "                    --jp-layout-color3: var(--colab-primary-surface-color, white);\n",
       "                }\n",
       "            </style>\n",
       "            "
      ],
      "text/plain": [
       "<IPython.core.display.HTML object>"
      ]
     },
     "metadata": {},
     "output_type": "display_data"
    },
    {
     "data": {
      "text/plain": [
       "Text(0.5, 0.98, 'Some various water tracky hillslopes')"
      ]
     },
     "execution_count": 56,
     "metadata": {},
     "output_type": "execute_result"
    },
    {
     "data": {
      "image/png": "[encoded data removed]",
      "text/plain": [
       "<Figure size 600x600 with 1 Axes>"
      ]
     },
     "metadata": {},
     "output_type": "display_data"
    }
   ],
   "source": [
    "import matplotlib.pyplot as plt\n",
    "fig, ax = plt.subplots(figsize=(6,6))\n",
    "\n",
    "for line, group in transects.groupby(by='line_number'):\n",
    "\n",
    "    group.plot(x='distance',y='mean', ax=ax,\n",
    "                # legend=True, label=\"elevation\",\n",
    "               legend=False,\n",
    "                  c='blue')\n",
    "\n",
    "    # ax2 = ax.twinx()\n",
    "\n",
    "    # group.plot.scatter(x='distance',y='gradient', ax=ax2, legend=True, label=\"gradient\", c=\"orange\")\n",
    "\n",
    "    # ax2.legend(loc=3)\n",
    "\n",
    "ax.set_xlabel('distance')\n",
    "ax.set_ylabel('elevation')\n",
    "\n",
    "plt.suptitle(\"Some various water tracky hillslopes\")"
   ]
  },
  {
   "cell_type": "code",
   "execution_count": 22,
   "metadata": {},
   "outputs": [
    {
     "data": {
      "text/html": [
       "\n",
       "            <style>\n",
       "                .geemap-dark {\n",
       "                    --jp-widgets-color: white;\n",
       "                    --jp-widgets-label-color: white;\n",
       "                    --jp-ui-font-color1: white;\n",
       "                    --jp-layout-color2: #454545;\n",
       "                    background-color: #383838;\n",
       "                }\n",
       "                    \n",
       "                .geemap-dark .jupyter-button {\n",
       "                    --jp-layout-color3: #383838;\n",
       "                }\n",
       "                \n",
       "                .geemap-colab {\n",
       "                    background-color: var(--colab-primary-surface-color, white);\n",
       "                }\n",
       "                    \n",
       "                .geemap-colab .jupyter-button {\n",
       "                    --jp-layout-color3: var(--colab-primary-surface-color, white);\n",
       "                }\n",
       "            </style>\n",
       "            "
      ],
      "text/plain": [
       "<IPython.core.display.HTML object>"
      ]
     },
     "metadata": {},
     "output_type": "display_data"
    }
   ],
   "source": [
    "# transects.to_csv(f\"{HYBAS_ID}.csv\")\n",
    "transects.to_csv(\"all_profiles.csv\")"
   ]
  },
  {
   "cell_type": "code",
   "execution_count": 24,
   "metadata": {},
   "outputs": [
    {
     "data": {
      "text/html": [
       "\n",
       "            <style>\n",
       "                .geemap-dark {\n",
       "                    --jp-widgets-color: white;\n",
       "                    --jp-widgets-label-color: white;\n",
       "                    --jp-ui-font-color1: white;\n",
       "                    --jp-layout-color2: #454545;\n",
       "                    background-color: #383838;\n",
       "                }\n",
       "                    \n",
       "                .geemap-dark .jupyter-button {\n",
       "                    --jp-layout-color3: #383838;\n",
       "                }\n",
       "                \n",
       "                .geemap-colab {\n",
       "                    background-color: var(--colab-primary-surface-color, white);\n",
       "                }\n",
       "                    \n",
       "                .geemap-colab .jupyter-button {\n",
       "                    --jp-layout-color3: var(--colab-primary-surface-color, white);\n",
       "                }\n",
       "            </style>\n",
       "            "
      ],
      "text/plain": [
       "<IPython.core.display.HTML object>"
      ]
     },
     "metadata": {},
     "output_type": "display_data"
    },
    {
     "data": {
      "text/html": [
       "<div>\n",
       "<style scoped>\n",
       "    .dataframe tbody tr th:only-of-type {\n",
       "        vertical-align: middle;\n",
       "    }\n",
       "\n",
       "    .dataframe tbody tr th {\n",
       "        vertical-align: top;\n",
       "    }\n",
       "\n",
       "    .dataframe thead th {\n",
       "        text-align: right;\n",
       "    }\n",
       "</style>\n",
       "<table border=\"1\" class=\"dataframe\">\n",
       "  <thead>\n",
       "    <tr style=\"text-align: right;\">\n",
       "      <th></th>\n",
       "      <th>A</th>\n",
       "      <th>B</th>\n",
       "      <th>C</th>\n",
       "    </tr>\n",
       "    <tr>\n",
       "      <th>line_number</th>\n",
       "      <th></th>\n",
       "      <th></th>\n",
       "      <th></th>\n",
       "    </tr>\n",
       "  </thead>\n",
       "  <tbody>\n",
       "    <tr>\n",
       "      <th>0</th>\n",
       "      <td>-1.937933e-05</td>\n",
       "      <td>-0.046950</td>\n",
       "      <td>294.458338</td>\n",
       "    </tr>\n",
       "    <tr>\n",
       "      <th>1</th>\n",
       "      <td>-6.851500e-06</td>\n",
       "      <td>-0.041215</td>\n",
       "      <td>362.295159</td>\n",
       "    </tr>\n",
       "    <tr>\n",
       "      <th>2</th>\n",
       "      <td>9.942438e-07</td>\n",
       "      <td>-0.103248</td>\n",
       "      <td>582.708589</td>\n",
       "    </tr>\n",
       "    <tr>\n",
       "      <th>3</th>\n",
       "      <td>-9.145694e-06</td>\n",
       "      <td>-0.045869</td>\n",
       "      <td>235.718859</td>\n",
       "    </tr>\n",
       "    <tr>\n",
       "      <th>4</th>\n",
       "      <td>1.203593e-07</td>\n",
       "      <td>-0.025548</td>\n",
       "      <td>162.996559</td>\n",
       "    </tr>\n",
       "    <tr>\n",
       "      <th>5</th>\n",
       "      <td>-1.826450e-05</td>\n",
       "      <td>-0.036859</td>\n",
       "      <td>834.088736</td>\n",
       "    </tr>\n",
       "  </tbody>\n",
       "</table>\n",
       "</div>"
      ],
      "text/plain": [
       "                        A         B           C\n",
       "line_number                                    \n",
       "0           -1.937933e-05 -0.046950  294.458338\n",
       "1           -6.851500e-06 -0.041215  362.295159\n",
       "2            9.942438e-07 -0.103248  582.708589\n",
       "3           -9.145694e-06 -0.045869  235.718859\n",
       "4            1.203593e-07 -0.025548  162.996559\n",
       "5           -1.826450e-05 -0.036859  834.088736"
      ]
     },
     "execution_count": 24,
     "metadata": {},
     "output_type": "execute_result"
    }
   ],
   "source": [
    "# Function to fit quadratic curve and extract coefficients\n",
    "def fit_quadratic(profile):\n",
    "    x = profile['distance']\n",
    "    y = profile['mean']\n",
    "    coeffs = np.polyfit(x, y, 2)  # Fit quadratic curve\n",
    "    return coeffs\n",
    "\n",
    "# Group by line_number and apply the fitting function\n",
    "grouped = transects.groupby('line_number').apply(fit_quadratic)\n",
    "\n",
    "# Convert coefficients to DataFrame\n",
    "coefficients_df = pd.DataFrame(grouped.tolist(), columns=['A', 'B', 'C'], index=grouped.index)\n",
    "\n",
    "coefficients_df\n"
   ]
  },
  {
   "cell_type": "code",
   "execution_count": null,
   "metadata": {},
   "outputs": [],
   "source": []
  }
 ],
 "metadata": {
  "kernelspec": {
   "display_name": "geopandas",
   "language": "python",
   "name": "python3"
  },
  "language_info": {
   "codemirror_mode": {
    "name": "ipython",
    "version": 3
   },
   "file_extension": ".py",
   "mimetype": "text/x-python",
   "name": "python",
   "nbconvert_exporter": "python",
   "pygments_lexer": "ipython3",
   "version": "3.10.13"
  },
  "orig_nbformat": 4
 },
 "nbformat": 4,
 "nbformat_minor": 2
}
