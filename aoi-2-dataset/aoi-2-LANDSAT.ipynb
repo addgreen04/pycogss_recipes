{
 "cells": [
  {
   "cell_type": "code",
   "execution_count": 1,
   "metadata": {},
   "outputs": [],
   "source": [
    "import geopandas as gpd\n",
    "import numpy as np\n",
    "import pandas as pd\n",
    "import ee\n",
    "import geemap\n",
    "from datetime import datetime\n",
    "from pathlib import Path\n",
    "# import os\n",
    "from osgeo import gdal\n",
    "\n",
    "import rioxarray\n",
    "import numpy as np\n",
    "import glob"
   ]
  },
  {
   "cell_type": "code",
   "execution_count": 2,
   "metadata": {},
   "outputs": [
    {
     "data": {
      "text/html": [
       "\n",
       "            <style>\n",
       "                .geemap-dark {\n",
       "                    --jp-widgets-color: white;\n",
       "                    --jp-widgets-label-color: white;\n",
       "                    --jp-ui-font-color1: white;\n",
       "                    --jp-layout-color2: #454545;\n",
       "                    background-color: #383838;\n",
       "                }\n",
       "                    \n",
       "                .geemap-dark .jupyter-button {\n",
       "                    --jp-layout-color3: #383838;\n",
       "                }\n",
       "                \n",
       "                .geemap-colab {\n",
       "                    background-color: var(--colab-primary-surface-color, white);\n",
       "                }\n",
       "                    \n",
       "                .geemap-colab .jupyter-button {\n",
       "                    --jp-layout-color3: var(--colab-primary-surface-color, white);\n",
       "                }\n",
       "            </style>\n",
       "            "
      ],
      "text/plain": [
       "<IPython.core.display.HTML object>"
      ]
     },
     "metadata": {},
     "output_type": "display_data"
    }
   ],
   "source": [
    "try:\n",
    "    ee.Initialize()\n",
    "except: \n",
    "    ee.Authenticate()\n",
    "    ee.Initialize()"
   ]
  },
  {
   "cell_type": "markdown",
   "metadata": {},
   "source": [
    "# Designate area of interest (AOI)"
   ]
  },
  {
   "cell_type": "markdown",
   "metadata": {},
   "source": [
    "## Set up name and directory structure"
   ]
  },
  {
   "cell_type": "markdown",
   "metadata": {},
   "source": [
    "This is where you can change the ID of the watershed"
   ]
  },
  {
   "cell_type": "code",
   "execution_count": null,
   "metadata": {},
   "outputs": [],
   "source": [
    "# If you're doing watersheds\n",
    "HYBAS_ID = 8100362730\t\t\t\t\t\t\t\t\t\t\t\t\t\t\t\t\t\t\t\t\t\t\n",
    "aoi_name = str(HYBAS_ID)\n",
    "\n",
    "# If you're not\n",
    "#aoi_name = 'test_aoi'"
   ]
  },
  {
   "cell_type": "markdown",
   "metadata": {},
   "source": [
    "## Set up area"
   ]
  },
  {
   "cell_type": "markdown",
   "metadata": {},
   "source": [
    "### Example: lat/long with area buffer"
   ]
  },
  {
   "cell_type": "code",
   "execution_count": null,
   "metadata": {},
   "outputs": [],
   "source": [
    "aoi = ee.FeatureCollection(\"WWF/HydroSHEDS/v1/Basins/hybas_10\").filter(ee.Filter.eq('HYBAS_ID', HYBAS_ID))\n",
    "\n",
    "longitude = aoi.geometry().centroid().coordinates().get(0).getInfo()\n",
    "latitude = aoi.geometry().centroid().coordinates().get(1).getInfo()"
   ]
  },
  {
   "cell_type": "markdown",
   "metadata": {},
   "source": [
    "You can use geemap's `geemap.shp_to_ee()` function to turn a local shapefile into an AOI as well. "
   ]
  },
  {
   "cell_type": "markdown",
   "metadata": {},
   "source": [
    "# Define EE functions and get filtered ImageCollection"
   ]
  },
  {
   "cell_type": "markdown",
   "metadata": {},
   "source": [
    "## Functions"
   ]
  },
  {
   "cell_type": "markdown",
   "metadata": {},
   "source": [
    "define bands that will be used in functions"
   ]
  },
  {
   "cell_type": "code",
   "execution_count": null,
   "metadata": {},
   "outputs": [],
   "source": [
    "redBand = 'SR_B4'\n",
    "greenBand = 'SR_B3'\n",
    "blueBand = 'SR_B2'\n",
    "\n",
    "NIR_band = 'SR_B5'\n",
    "SWIR_band = 'SR_B6'"
   ]
  },
  {
   "cell_type": "code",
   "execution_count": null,
   "metadata": {},
   "outputs": [],
   "source": [
    "# def maskL8clouds(image):\n",
    "#         \"\"\"Masks clouds based on pixel quality attributes\n",
    "\n",
    "#     Parameters:\n",
    "#     image (Image): A single Image in an ImageCollection or standalone Image\n",
    "\n",
    "#     Returns:\n",
    "#     Image with masked features and original metadata\n",
    "\n",
    "#     \"\"\"\n",
    "#         qa = image.select('QA_PIXEL')\n",
    "\n",
    "#         # Bits 3 and 4 are cloud and cloud shadow, respectively.\n",
    "#         cloudShadowBitMask = 1 << 4\n",
    "#         cloudBitMask = 1 << 3\n",
    "\n",
    "#         # Both flags should be set to zero, indicating clear conditions.\n",
    "#         mask = qa.bitwiseAnd(cloudShadowBitMask).eq(0) \\\n",
    "#             .And(qa.bitwiseAnd(cloudBitMask).eq(0))\n",
    "\n",
    "#         return image.updateMask(mask) \\\n",
    "#             .divide(10000) \\\n",
    "#             .copyProperties(image, ['system:time_start'])"
   ]
  },
  {
   "cell_type": "code",
   "execution_count": null,
   "metadata": {},
   "outputs": [],
   "source": [
    "# cloud and shadow mask\n",
    "def maskL8clouds(image):\n",
    "    mask = image.select('QA_PIXEL').bitwiseAnd(int('11111', 2)).eq(0)\n",
    "\n",
    "    return image.updateMask(mask) \\\n",
    "            .divide(10000) \\\n",
    "            .copyProperties(image, ['system:time_start'])"
   ]
  },
  {
   "cell_type": "code",
   "execution_count": null,
   "metadata": {},
   "outputs": [],
   "source": [
    "def clp(image):\n",
    "    '''Clips a single Image to a region of interest'''\n",
    "    return image.clip(aoi)\n",
    "\n",
    "def mosaicByDate(imcol):\n",
    "    # Get a list of unique dates in the image collection\n",
    "    unique_dates = ee.List(imcol.aggregate_array('system:time_start')).map(\n",
    "        lambda date: ee.Date(date).format('YYYY-MM-dd')\n",
    "    ).distinct()\n",
    "    \n",
    "    def mosaic_date(date):\n",
    "        date = ee.Date(date)\n",
    "        filtered = imcol.filterDate(date, date.advance(1, 'day'))\n",
    "        return ee.Image(filtered.mosaic()).set('system:time_start', date.millis())\n",
    "    \n",
    "    mosaic_imlist = unique_dates.map(mosaic_date)\n",
    "    return ee.ImageCollection(mosaic_imlist)\n",
    "\n",
    "def addNDVI(image):\n",
    "  '''Adds NDVI band to each image (in an ImageCollection)'''\n",
    "  ndvi = image.normalizedDifference([NIR_band, redBand]).rename('NDVI')\n",
    "  return image.addBands(ndvi)\n",
    "\n",
    "def addNDSI(image):\n",
    "    '''Adds L8's NDSI band to each image (in an ImageCollection)'''\n",
    "    ndsi = image.normalizedDifference([greenBand, SWIR_band]).rename('NDSI')\n",
    "    return image.addBands(ndsi)\n",
    "\n",
    "def addElevation(image):\n",
    "  '''Adds ArcticDEM elevation to each image (in an ImageCollection)'''\n",
    "  elevation = ee.Image(\"UMN/PGC/ArcticDEM/V3/2m_mosaic\").select('elevation').clip(aoi).rename('ArcticDEM')\n",
    "  return image.addBands(elevation)\n",
    "\n",
    "def get_mean_snow_cover(image):\n",
    "        \"\"\"Adds a value for scene-averaged MODIS-dervied snow cover to an image (in an ImageCollection)\n",
    "\n",
    "    Parameters:\n",
    "    image (Image): A single Image in an ImageCollection or standalone Image\n",
    "\n",
    "    Returns:\n",
    "    Image with snow cover mean as a band\n",
    "\n",
    "        \"\"\"    \n",
    "        # Get MODIS snow cover product for day and location\n",
    "        ndsi_image = ee.ImageCollection('MODIS/061/MOD10A1').filterDate(\n",
    "            image.date(), image.date().advance(1, 'day')).first().select('NDSI_Snow_Cover').clip(aoi)\n",
    "        \n",
    "        image = image.addBands(ndsi_image)\n",
    "\n",
    "        # Get mean value across the scene \n",
    "        mean_value = image.reduceRegion(\n",
    "            reducer=ee.Reducer.mean(),\n",
    "            geometry=aoi,\n",
    "            scale=100,  # Resolution of Landsat data in meters\n",
    "            maxPixels = 1e9\n",
    "        )\n",
    "\n",
    "        # Get the mean value for the band\n",
    "        mean_band_value = mean_value.get('NDSI_Snow_Cover')\n",
    "\n",
    "        # Set the mean value as an image property\n",
    "        return image.set(\"mean_\" + 'NDSI_Snow_Cover', mean_band_value)\n",
    "\n",
    "def get_white_pixel_percent(image):\n",
    "        \"\"\"Add data on pixel percentage that is white in grayscale as a band\n",
    "        note that total_pixels needs to be calculated first\n",
    "\n",
    "    Parameters:\n",
    "    image (Image): A single Image in an ImageCollection or standalone Image\n",
    "\n",
    "    Returns:\n",
    "    Image with \"white_percentage\" band added\n",
    "\n",
    "    \"\"\"    \n",
    "        grayscale = image.expression(\n",
    "            '(.3 * R) + (.59 * G) + (.11 * B)', {\n",
    "            'R': image.select(redBand),\n",
    "            'G': image.select(greenBand),\n",
    "            'B': image.select(blueBand)\n",
    "        })\n",
    "\n",
    "        white_mask = grayscale.gt(2000)\n",
    "        \n",
    "    \n",
    "        white_pixel_stats = white_mask.reduceRegion(\n",
    "        reducer=ee.Reducer.sum().combine(\n",
    "                reducer2=ee.Reducer.count(),\n",
    "                sharedInputs=True\n",
    "            ),\n",
    "            geometry=aoi,  # Assuming 'aoi' is defined somewhere in your script\n",
    "            scale=30,\n",
    "            maxPixels=1e9\n",
    "        )\n",
    "\n",
    "        # Extract sum and count values\n",
    "        sum_white_pixels = ee.Number(white_pixel_stats.get('sum'))\n",
    "        count_white_pixels = ee.Number(white_pixel_stats.get('count'))\n",
    "\n",
    "        # Calculate percentage\n",
    "        white_percentage = sum_white_pixels.divide(count_white_pixels).multiply(100)\n",
    "\n",
    "        return image.set(\"white_percentage\", white_percentage)\n",
    "\n",
    "def calcTotalPixels(image):\n",
    "    \"\"\"Add data on total pixels as a band\n",
    "\n",
    "    Parameters:\n",
    "    image (Image): A single Image in an ImageCollection or standalone Image\n",
    "\n",
    "    Returns:\n",
    "    Image with \"total_pixels\" band added\n",
    "\n",
    "    \"\"\"    \n",
    "    total_pixels = ee.Image.pixelArea().reduceRegion(\n",
    "        reducer=ee.Reducer.count(),\n",
    "        scale=30,  \n",
    "        maxPixels = 1e9,\n",
    "        geometry=aoi\n",
    "    )\n",
    "    return image.set(\"total_pixels\", total_pixels) \n"
   ]
  },
  {
   "cell_type": "code",
   "execution_count": null,
   "metadata": {},
   "outputs": [],
   "source": [
    "# original\n",
    "def calculateNoDataPercentage(image):\n",
    "        \"\"\"Add data on masked pixel percentage as a property\n",
    "        note that total_pixels needs to be calculated first\n",
    "\n",
    "    Parameters:\n",
    "    image (Image): A single Image in an ImageCollection or standalone Image\n",
    "\n",
    "    Returns:\n",
    "    Image with \"nodata_percentage property set\"\n",
    "\n",
    "    \"\"\"\n",
    "        pixel_area = ee.Image.pixelArea()\n",
    "        \n",
    "        nodata_mask = image.select('QA_PIXEL').eq(0)\n",
    "        nodata_area = pixel_area.updateMask(nodata_mask)\n",
    "        \n",
    "        nodata_pixel_count = nodata_area.reduceRegion(\n",
    "              reducer=ee.Reducer.sum(),\n",
    "              geometry=aoi,\n",
    "              scale=30,\n",
    "              maxPixels=1e9\n",
    "            ).get('QA_PIXEL')\n",
    "        \n",
    "        nodata_pixels = ee.Number(nodata_pixel_count)\n",
    "        total_pixels = ee.Number(image.get(total_pixels))\n",
    "        \n",
    "        # Calculate percentage\n",
    "        nodata_percentage = nodata_pixels.divide(total_pixels).multiply(100)\n",
    "        \n",
    "        # Add NoData percentage as a property\n",
    "        return image.set('nodata_percentage', nodata_percentage)\n",
    "\n"
   ]
  },
  {
   "cell_type": "code",
   "execution_count": null,
   "metadata": {},
   "outputs": [],
   "source": [
    "# def addCloudScore(image):\n",
    "#     cloud_score = ee.Algorithms.Landsat.simpleCloudScore(image).select('cloud')\n",
    "#     return image.addBands(cloud_score)\n",
    "\n",
    "# def filterClouds(image):\n",
    "#     cloud_score = image.select('cloud').reduceRegion(\n",
    "#         reducer=ee.Reducer.mean(),\n",
    "#         geometry=image.geometry(),\n",
    "#         scale=30\n",
    "#     )\n",
    "#     return ee.Number(cloud_score.get('cloud')).lte(20) # change mean cloud score threshold"
   ]
  },
  {
   "cell_type": "code",
   "execution_count": null,
   "metadata": {},
   "outputs": [],
   "source": [
    "def filterCloudyScenes(imcol, cloud_threshold):\n",
    "     return imcol.filter(ee.Filter.lt('CLOUD_COVER', cloud_threshold))"
   ]
  },
  {
   "cell_type": "code",
   "execution_count": null,
   "metadata": {},
   "outputs": [],
   "source": [
    "def applyScaleFactors(image):\n",
    "  optical_bands = image.select('SR_B.').multiply(0.0000275).add(-0.2)\n",
    "  thermal_bands = image.select('ST_B.*').multiply(0.00341802).add(149.0)\n",
    "  return image.addBands(optical_bands, None, True).addBands(\n",
    "      thermal_bands, None, True\n",
    "  )"
   ]
  },
  {
   "cell_type": "markdown",
   "metadata": {},
   "source": [
    "## Set filtering parameters "
   ]
  },
  {
   "cell_type": "markdown",
   "metadata": {},
   "source": [
    "If you notice that your ImageCollections are empty, try changing these!"
   ]
  },
  {
   "cell_type": "code",
   "execution_count": null,
   "metadata": {},
   "outputs": [],
   "source": [
    "cloud_threshold = 10\n",
    "\n",
    "# Seward \n",
    "snow_cover_threshold = 5\n",
    "threshold_nodata_percent = 5\n",
    "threshold_white_percent = 5\n",
    "\n",
    "# Limit images added to the Map\n",
    "image_limit=5\n"
   ]
  },
  {
   "cell_type": "markdown",
   "metadata": {},
   "source": [
    "## Build ImageCollection"
   ]
  },
  {
   "cell_type": "markdown",
   "metadata": {},
   "source": [
    "This step involves loading in Sentinel 2 data and applies your first filter for dates and cloudy percentage as well as filtering to images that intersect with the bounds of your area of interest and masking for clouds. \n",
    "\n",
    "For detecting water tracks we want to look at the growing season (months 5 to 9) but adjust based on science question. "
   ]
  },
  {
   "cell_type": "code",
   "execution_count": null,
   "metadata": {},
   "outputs": [],
   "source": [
    "cloudyScenes = (\n",
    "                ee.ImageCollection('LANDSAT/LC08/C02/T1_L2') \n",
    "                .filter(ee.Filter.calendarRange(2019,2023,'year'))\n",
    "                .filter(ee.Filter.calendarRange(6,8,'month'))\n",
    "                .filterBounds(aoi)\n",
    "                .map(clp)\n",
    "                .map(applyScaleFactors)\n",
    ")\n",
    "\n",
    "pre_filter = filterCloudyScenes(cloudyScenes, cloud_threshold)\n",
    "\n",
    "dataset = pre_filter.map(maskL8clouds)\n",
    "\n"
   ]
  },
  {
   "cell_type": "code",
   "execution_count": null,
   "metadata": {},
   "outputs": [],
   "source": [
    "dataset = mosaicByDate(dataset).map(addNDVI).map(addNDSI).map(addElevation)\n",
    "\n",
    "#collection_with_data = (dataset.map(calcTotalPixels).map(calculateNoDataPercentage).map(get_white_pixel_percent))\n"
   ]
  },
  {
   "cell_type": "code",
   "execution_count": null,
   "metadata": {},
   "outputs": [],
   "source": [
    "# Basically a \"too many aggregated requests\" error can be thrown if you do TOO much at once (like three reduceRegions and filters)\n",
    "# So my strategy here is to subsume the snow filter into the white filter\n",
    "\n",
    "#filtered_collection = collection_with_data.filter(ee.Filter.lte(\"nodata_percentage\", threshold_nodata_percent))\n",
    "#filtered_collection = filtered_collection.filter(ee.Filter.lte(\"white_percentage\", threshold_white_percent))\\\n",
    "\n",
    "# NOT TESTING FILTERS^ FOR SPECTRAL CHANGE PURPOSES\n",
    "filtered_collection = dataset\n",
    "\n",
    "filtered_collection_size = len(filtered_collection.aggregate_array(\"system:index\").getInfo())\n",
    "\n",
    "print(f'Number of images in collection: {filtered_collection_size}')"
   ]
  },
  {
   "cell_type": "code",
   "execution_count": null,
   "metadata": {},
   "outputs": [],
   "source": [
    "Map = geemap.Map(center=[latitude, longitude], zoom=11)"
   ]
  },
  {
   "cell_type": "code",
   "execution_count": null,
   "metadata": {},
   "outputs": [],
   "source": [
    "for image_id in filtered_collection.aggregate_array(\"system:index\").getInfo()[0:image_limit]:\n",
    "    image = filtered_collection.filterMetadata(\"system:index\", \"equals\", image_id).first()\n",
    "    \n",
    "    image_RGB = image.select(redBand, greenBand, blueBand) \n",
    "    # image_RGB = image.select('B4') \n",
    "    RGB_vis_params = {'min': 0.0, 'max': 0.15, 'gamma': 1.4}\n",
    "    Map.addLayer(image_RGB, RGB_vis_params, ee.Image(image).date().format('yyyy-MM-dd').getInfo(), True)\n",
    "\n",
    "print(f'Remember I am limiting the image list to {image_limit} of {filtered_collection_size} images')\n"
   ]
  },
  {
   "cell_type": "markdown",
   "metadata": {},
   "source": [
    "Now if you click on the wrench in the right top corner, followed by the \"Layers\" button, you can toggle through imagery that passed the filter. \n",
    "\n",
    "If you notice squares missing from the imagery, it might be a rendering/tiling issue - if you zoom in and out the map will re-tile and the problem is usually solved. The data are there, I promise. \n"
   ]
  },
  {
   "cell_type": "markdown",
   "metadata": {},
   "source": [
    "# Map"
   ]
  },
  {
   "cell_type": "code",
   "execution_count": null,
   "metadata": {},
   "outputs": [],
   "source": [
    "Map"
   ]
  },
  {
   "cell_type": "code",
   "execution_count": null,
   "metadata": {},
   "outputs": [],
   "source": []
  }
 ],
 "metadata": {
  "kernelspec": {
   "display_name": "geopandas",
   "language": "python",
   "name": "python3"
  },
  "language_info": {
   "codemirror_mode": {
    "name": "ipython",
    "version": 3
   },
   "file_extension": ".py",
   "mimetype": "text/x-python",
   "name": "python",
   "nbconvert_exporter": "python",
   "pygments_lexer": "ipython3",
   "version": "3.12.1"
  },
  "orig_nbformat": 4
 },
 "nbformat": 4,
 "nbformat_minor": 2
}
