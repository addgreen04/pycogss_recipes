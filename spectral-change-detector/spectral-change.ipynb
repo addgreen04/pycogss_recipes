{
 "cells": [
  {
   "cell_type": "code",
   "execution_count": 1,
   "metadata": {},
   "outputs": [],
   "source": [
    "import ee\n",
    "import geemap"
   ]
  },
  {
   "cell_type": "code",
   "execution_count": 2,
   "metadata": {},
   "outputs": [
    {
     "data": {
      "text/html": [
       "\n",
       "            <style>\n",
       "                .geemap-dark {\n",
       "                    --jp-widgets-color: white;\n",
       "                    --jp-widgets-label-color: white;\n",
       "                    --jp-ui-font-color1: white;\n",
       "                    --jp-layout-color2: #454545;\n",
       "                    background-color: #383838;\n",
       "                }\n",
       "\n",
       "                .geemap-dark .jupyter-button {\n",
       "                    --jp-layout-color3: #383838;\n",
       "                }\n",
       "\n",
       "                .geemap-colab {\n",
       "                    background-color: var(--colab-primary-surface-color, white);\n",
       "                }\n",
       "\n",
       "                .geemap-colab .jupyter-button {\n",
       "                    --jp-layout-color3: var(--colab-primary-surface-color, white);\n",
       "                }\n",
       "            </style>\n",
       "            "
      ],
      "text/plain": [
       "<IPython.core.display.HTML object>"
      ]
     },
     "metadata": {},
     "output_type": "display_data"
    }
   ],
   "source": [
    "try:\n",
    "    ee.Initialize()\n",
    "except: \n",
    "    ee.Authenticate()\n",
    "    ee.Initialize()"
   ]
  },
  {
   "cell_type": "markdown",
   "metadata": {},
   "source": [
    "# Functions"
   ]
  },
  {
   "cell_type": "code",
   "execution_count": 3,
   "metadata": {},
   "outputs": [
    {
     "data": {
      "text/html": [
       "\n",
       "            <style>\n",
       "                .geemap-dark {\n",
       "                    --jp-widgets-color: white;\n",
       "                    --jp-widgets-label-color: white;\n",
       "                    --jp-ui-font-color1: white;\n",
       "                    --jp-layout-color2: #454545;\n",
       "                    background-color: #383838;\n",
       "                }\n",
       "\n",
       "                .geemap-dark .jupyter-button {\n",
       "                    --jp-layout-color3: #383838;\n",
       "                }\n",
       "\n",
       "                .geemap-colab {\n",
       "                    background-color: var(--colab-primary-surface-color, white);\n",
       "                }\n",
       "\n",
       "                .geemap-colab .jupyter-button {\n",
       "                    --jp-layout-color3: var(--colab-primary-surface-color, white);\n",
       "                }\n",
       "            </style>\n",
       "            "
      ],
      "text/plain": [
       "<IPython.core.display.HTML object>"
      ]
     },
     "metadata": {},
     "output_type": "display_data"
    }
   ],
   "source": [
    "# Function to mask clouds using the Sentinel-2 QA band\n",
    "def maskS2clouds(image):\n",
    "    qa = image.select('QA60')\n",
    "\n",
    "    # Bits 10 and 11 are clouds and cirrus, respectively.\n",
    "    cloudBitMask = 1 << 10\n",
    "    cirrusBitMask = 1 << 11\n",
    "\n",
    "    # Both flags should be set to zero, indicating clear conditions.\n",
    "    mask = qa.bitwiseAnd(cloudBitMask).eq(0) \\\n",
    "        .And(qa.bitwiseAnd(cirrusBitMask).eq(0))\n",
    "\n",
    "    return image.updateMask(mask) \\\n",
    "        .divide(10000) \\\n",
    "        .copyProperties(image, ['system:time_start'])  # this guy is important!\n",
    "\n",
    "# Mask out water\n",
    "def maskWater(image):\n",
    "    return image.updateMask(waterMask.select('water_mask').lt(1))\n",
    "\n",
    "# Function to filter images by NDSI_Snow_Cover value < 5\n",
    "def maskS2snow(image):\n",
    "\n",
    "    mask = image.select('MSK_SNWPRB').lt(0.009) \\\n",
    "    \n",
    "    return image.updateMask(mask) \\\n",
    "            .copyProperties(image, ['system:time_start'])  # this guy is important!\n",
    "\n",
    "# Make an NDVI band\n",
    "def addNDVI(image):\n",
    "    ndvi = image.normalizedDifference(['B8', 'B4']).rename('NDVI')\n",
    "    return image.addBands(ndvi).copyProperties(image, ['system:time_start'])\n",
    "\n",
    "# Function to get yearly statistics for the chosen index\n",
    "def annual_images(y):\n",
    "    range_year = ee.Filter.calendarRange(y, y, 'year')\n",
    "    range_month = ee.Filter.calendarRange(start_month, end_month, 'month')\n",
    "    filtered_dataset = (index_collection\n",
    "                        .filter(range_year)\n",
    "                        .filter(range_month)\n",
    "                        .map(lambda image: image.addBands(image.metadata('system:time_start').divide(3.154e10)))) # Needed for linear regression \n",
    "    \n",
    "    # Print out the number of images in the ImageCollection for each year\n",
    "    num_images = filtered_dataset.size()\n",
    "    \n",
    "    \n",
    "    # Choose the reducer based on the analysis choice\n",
    "    if analysis == 'mean':\n",
    "        reducer = ee.Reducer.mean().combine(\n",
    "            reducer2=ee.Reducer.stdDev(),\n",
    "            sharedInputs=True\n",
    "        )\n",
    "    elif analysis == 'min' or analysis == 'max':\n",
    "        reducer = ee.Reducer.mean().combine(\n",
    "            reducer2=ee.Reducer.minMax(),\n",
    "            sharedInputs=True\n",
    "        )\n",
    "    elif analysis == 'median':\n",
    "        reducer = ee.Reducer.mean().combine(\n",
    "            reducer2=ee.Reducer.median(),\n",
    "            sharedInputs=True\n",
    "        )\n",
    "\n",
    "    # Use the combined reducer to get the statistics\n",
    "    stats = filtered_dataset.reduce(reducer)\n",
    "    return stats.set('year', y).set('num', num_images)\n",
    "\n",
    "def intrayear(index_collection):\n",
    "    range_year = ee.Filter.calendarRange(start_year, end_year, 'year')\n",
    "    range_month = ee.Filter.calendarRange(start_month, end_month, 'month')\n",
    "    filtered_dataset = (index_collection\n",
    "                        .filter(range_year)\n",
    "                        .filter(range_month)\n",
    "                        .map(lambda image: image.addBands(image.metadata('system:time_start').divide(3.154e10)))) # Needed for linear regression \n",
    "    \n",
    "    num_images = filtered_dataset.size()\n",
    "\n",
    "    # return filtered_dataset\n",
    "    return filtered_dataset.set('year', start_year).set('num', num_images)"
   ]
  },
  {
   "cell_type": "markdown",
   "metadata": {},
   "source": [
    "# Build collection"
   ]
  },
  {
   "cell_type": "code",
   "execution_count": 4,
   "metadata": {},
   "outputs": [
    {
     "data": {
      "text/html": [
       "\n",
       "            <style>\n",
       "                .geemap-dark {\n",
       "                    --jp-widgets-color: white;\n",
       "                    --jp-widgets-label-color: white;\n",
       "                    --jp-ui-font-color1: white;\n",
       "                    --jp-layout-color2: #454545;\n",
       "                    background-color: #383838;\n",
       "                }\n",
       "\n",
       "                .geemap-dark .jupyter-button {\n",
       "                    --jp-layout-color3: #383838;\n",
       "                }\n",
       "\n",
       "                .geemap-colab {\n",
       "                    background-color: var(--colab-primary-surface-color, white);\n",
       "                }\n",
       "\n",
       "                .geemap-colab .jupyter-button {\n",
       "                    --jp-layout-color3: var(--colab-primary-surface-color, white);\n",
       "                }\n",
       "            </style>\n",
       "            "
      ],
      "text/plain": [
       "<IPython.core.display.HTML object>"
      ]
     },
     "metadata": {},
     "output_type": "display_data"
    }
   ],
   "source": [
    "# Get water mask\n",
    "waterMask = (\n",
    "    ee.ImageCollection('MODIS/006/MOD44W') \n",
    "    .filter(ee.Filter.date('2015-01-01', '2015-01-02')) \n",
    "    .select('water_mask') \\\n",
    "    .first()\n",
    ")\n",
    "# Get Sentinel 2 harmonized images\n",
    "dataset = (\n",
    "    ee.ImageCollection(\"COPERNICUS/S2_SR_HARMONIZED\")\n",
    "                #   // Sentinel 2 harmonized data only available for certain time\n",
    "                  .filter(ee.Filter.calendarRange(2019,2023,'year'))\n",
    "                #   // Filter by month. Be mindful of snow! \n",
    "                  .filter(ee.Filter.calendarRange(6,9,'month'))\n",
    "                #   // Pre-filter to get less cloudy granules.\n",
    "                  .filter(ee.Filter.lt('CLOUDY_PIXEL_PERCENTAGE', 5))\n",
    "                #   // .filterBounds(geometry)\n",
    "                #   // This one's Toolik\n",
    "                  .filterBounds(ee.Geometry.Point(-149.5427, 68.6267).buffer(500))\n",
    "                #   // This one's Russian tree tracks\n",
    "                #   // .filterBounds(ee.Geometry.Point(133.16008, 66.82386).buffer(1000))\n",
    "                  .map(maskS2clouds)\n",
    "                  .map(maskS2snow)\n",
    "                  .map(maskWater)\n",
    "                  .map(addNDVI)\n",
    ")"
   ]
  },
  {
   "cell_type": "code",
   "execution_count": null,
   "metadata": {},
   "outputs": [],
   "source": []
  },
  {
   "cell_type": "markdown",
   "metadata": {},
   "source": [
    "# Do analysis"
   ]
  },
  {
   "cell_type": "code",
   "execution_count": 7,
   "metadata": {},
   "outputs": [
    {
     "data": {
      "text/html": [
       "\n",
       "            <style>\n",
       "                .geemap-dark {\n",
       "                    --jp-widgets-color: white;\n",
       "                    --jp-widgets-label-color: white;\n",
       "                    --jp-ui-font-color1: white;\n",
       "                    --jp-layout-color2: #454545;\n",
       "                    background-color: #383838;\n",
       "                }\n",
       "\n",
       "                .geemap-dark .jupyter-button {\n",
       "                    --jp-layout-color3: #383838;\n",
       "                }\n",
       "\n",
       "                .geemap-colab {\n",
       "                    background-color: var(--colab-primary-surface-color, white);\n",
       "                }\n",
       "\n",
       "                .geemap-colab .jupyter-button {\n",
       "                    --jp-layout-color3: var(--colab-primary-surface-color, white);\n",
       "                }\n",
       "            </style>\n",
       "            "
      ],
      "text/plain": [
       "<IPython.core.display.HTML object>"
      ]
     },
     "metadata": {},
     "output_type": "display_data"
    },
    {
     "name": "stdout",
     "output_type": "stream",
     "text": [
      "Year: 2021 Number of images: 5\n"
     ]
    }
   ],
   "source": [
    "# Pick your index\n",
    "index = 'NDVI'\n",
    "# Pick your reducer\n",
    "analysis = 'max'  # Choose 'mean', 'median', 'min', or 'max' for analysis\n",
    "\n",
    "# In case you want to limit beyond your ImageCollection\n",
    "start_year = 2021\n",
    "end_year = 2021\n",
    "start_month = 6\n",
    "end_month = 8\n",
    "\n",
    "# Pick your index\n",
    "index_collection = dataset.select(index)  # Choose your index collection\n",
    "\n",
    "# Generate list of years\n",
    "years = ee.List.sequence(start_year, end_year)\n",
    "\n",
    "if start_year == end_year:\n",
    "    intrayear_collection = intrayear(index_collection)\n",
    "\n",
    "    item = intrayear_collection.getInfo()\n",
    "    print(\"Year:\", item['properties']['year'], \"Number of images:\", item['properties']['num'])\n",
    "\n",
    "    # Get linear fit to pixelwise trend of annual max NDVI\n",
    "    trend = intrayear_collection.select(['system:time_start',\n",
    "                                index\n",
    "                                ]).reduce(ee.Reducer.linearFit())\n",
    "    \n",
    "else:\n",
    "\n",
    "    # Map over years to get yearly statistics\n",
    "    yearwise_ndvi = years.map(annual_images)\n",
    "\n",
    "    for item in yearwise_ndvi.getInfo():\n",
    "        print(\"Year:\", item['properties']['year'], \"Number of images:\", item['properties']['num'])\n",
    "\n",
    "        yearCompCol = ee.ImageCollection.fromImages(yearwise_ndvi)\n",
    "\n",
    "        # Get linear fit to pixelwise trend of annual max NDVI\n",
    "        trend = yearCompCol.select(['system:time_start_mean',\n",
    "                                    f'{index}_{analysis}'\n",
    "                                    ]).reduce(ee.Reducer.linearFit())\n",
    "\n"
   ]
  },
  {
   "cell_type": "code",
   "execution_count": null,
   "metadata": {},
   "outputs": [],
   "source": []
  },
  {
   "cell_type": "code",
   "execution_count": 12,
   "metadata": {},
   "outputs": [
    {
     "data": {
      "text/html": [
       "\n",
       "            <style>\n",
       "                .geemap-dark {\n",
       "                    --jp-widgets-color: white;\n",
       "                    --jp-widgets-label-color: white;\n",
       "                    --jp-ui-font-color1: white;\n",
       "                    --jp-layout-color2: #454545;\n",
       "                    background-color: #383838;\n",
       "                }\n",
       "\n",
       "                .geemap-dark .jupyter-button {\n",
       "                    --jp-layout-color3: #383838;\n",
       "                }\n",
       "\n",
       "                .geemap-colab {\n",
       "                    background-color: var(--colab-primary-surface-color, white);\n",
       "                }\n",
       "\n",
       "                .geemap-colab .jupyter-button {\n",
       "                    --jp-layout-color3: var(--colab-primary-surface-color, white);\n",
       "                }\n",
       "            </style>\n",
       "            "
      ],
      "text/plain": [
       "<IPython.core.display.HTML object>"
      ]
     },
     "metadata": {},
     "output_type": "display_data"
    },
    {
     "data": {
      "application/vnd.jupyter.widget-view+json": {
       "model_id": "29cddc6d00f64f5a94cc28e5809be0c6",
       "version_major": 2,
       "version_minor": 0
      },
      "text/plain": [
       "Map(center=[0, 0], controls=(WidgetControl(options=['position', 'transparent_bg'], widget=SearchDataGUI(childr…"
      ]
     },
     "execution_count": 12,
     "metadata": {},
     "output_type": "execute_result"
    }
   ],
   "source": [
    "Map = geemap.Map()\n",
    "\n",
    "# Map.addLayer(dataset, {\n",
    "#     'min':0.0,\n",
    "#     'max':0.3,\n",
    "#     'bands': ['B4', 'B3', 'B2']}, 'RGB')\n",
    "\n",
    "image_limit = 5\n",
    "for image_id in intrayear(dataset).aggregate_array(\"system:index\").getInfo()[0:image_limit]:\n",
    "        image = intrayear(dataset).filterMetadata(\"system:index\", \"equals\", image_id).first()\n",
    "        \n",
    "        image_RGB = image.select('B4', 'B3', 'B2') \n",
    "        # image_RGB = image.select('B4') \n",
    "        RGB_vis_params = {'min': 0.0, 'max': 0.3}\n",
    "        Map.addLayer(image_RGB, RGB_vis_params, ee.Image(image).date().format('yyyy-MM-dd').getInfo(), True)\n",
    "\n",
    "for image_id in intrayear_collection.aggregate_array(\"system:index\").getInfo()[0:image_limit]:\n",
    "        image = intrayear_collection.filterMetadata(\"system:index\", \"equals\", image_id).first()\n",
    "        date_string = ee.Image(image).date().format('yyyy-MM-dd').getInfo()\n",
    "\n",
    "        Map.addLayer(image.select('NDVI'), {}, f'{date_string}_NDVI', False)\n",
    "\n",
    "Map.addLayer(trend.select('scale'),\n",
    "              {\n",
    "                      'min':-1.0, 'max':3.0,\n",
    "            'palette': ['red', 'white', 'blue']\n",
    "            },\n",
    " 'trend')\n",
    "Map"
   ]
  },
  {
   "cell_type": "code",
   "execution_count": null,
   "metadata": {},
   "outputs": [],
   "source": []
  }
 ],
 "metadata": {
  "kernelspec": {
   "display_name": "gee",
   "language": "python",
   "name": "python3"
  },
  "language_info": {
   "codemirror_mode": {
    "name": "ipython",
    "version": 3
   },
   "file_extension": ".py",
   "mimetype": "text/x-python",
   "name": "python",
   "nbconvert_exporter": "python",
   "pygments_lexer": "ipython3",
   "version": "3.10.13"
  }
 },
 "nbformat": 4,
 "nbformat_minor": 2
}
